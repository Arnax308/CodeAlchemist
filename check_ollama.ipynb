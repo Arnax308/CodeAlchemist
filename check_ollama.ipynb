{
 "cells": [
  {
   "cell_type": "code",
   "execution_count": 8,
   "metadata": {},
   "outputs": [
    {
     "name": "stdout",
     "output_type": "stream",
     "text": [
      ".|ip|ynb|\n",
      "|#| %%|\n",
      "|def| Two|_|Sum|(|list|,|target|):|\n",
      "|    |seen| =| {}|\n",
      "|    |for| i|,| num| in| enumerate|(|list|):|\n",
      "|        |other| =| target| -| num|\n",
      "|        |if| other| in| seen|:|\n",
      "|            |return| [|seen|[|other|],| i|]|\n",
      "|        |seen|[|num|]| =| i|\n",
      "|    |raise| TypeError|(|f|\"|Not| found| in| list| {|list|}\")|\n",
      "|    |\n",
      "|list| =| [|1|,| |2|,| |3|,| |4|,| |5|,| |6|,| |7|,| |8|,| |9|,| |1|0|,| |1|1|,| |1|2|,| |1|3|,| |1|4|,| |1|5|]|\n",
      "|target| =| |1|0|\n",
      "|result| =| Two|_|Sum|(|list|,|target|)|\n",
      "|print|(|result|)|\n",
      "|    |\n",
      "|    |\n",
      "|#| %%|\n",
      "\n",
      "||"
     ]
    }
   ],
   "source": [
    "from langchain_ollama import OllamaLLM\n",
    "\n",
    "llm = OllamaLLM(model=\"codegemma:2b\")\n",
    "\n",
    "for chunk in llm.stream(\"give the code for the leetcode 2 sum problem in python\"):\n",
    "    print(chunk, end=\"|\", flush=True)"
   ]
  },
  {
   "cell_type": "code",
   "execution_count": null,
   "metadata": {},
   "outputs": [],
   "source": []
  }
 ],
 "metadata": {
  "kernelspec": {
   "display_name": "alchemist",
   "language": "python",
   "name": "python3"
  },
  "language_info": {
   "codemirror_mode": {
    "name": "ipython",
    "version": 3
   },
   "file_extension": ".py",
   "mimetype": "text/x-python",
   "name": "python",
   "nbconvert_exporter": "python",
   "pygments_lexer": "ipython3",
   "version": "3.11.10"
  }
 },
 "nbformat": 4,
 "nbformat_minor": 2
}
